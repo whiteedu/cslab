{
  "nbformat": 4,
  "nbformat_minor": 0,
  "metadata": {
    "colab": {
      "provenance": [],
      "authorship_tag": "ABX9TyMi2Q6/wr4cRd0MvR1TQRT0",
      "include_colab_link": true
    },
    "kernelspec": {
      "name": "python3",
      "display_name": "Python 3"
    },
    "language_info": {
      "name": "python"
    }
  },
  "cells": [
    {
      "cell_type": "markdown",
      "metadata": {
        "id": "view-in-github",
        "colab_type": "text"
      },
      "source": [
        "<a href=\"https://colab.research.google.com/github/whiteedu/cslab/blob/main/cslab.ipynb\" target=\"_parent\"><img src=\"https://colab.research.google.com/assets/colab-badge.svg\" alt=\"Open In Colab\"/></a>"
      ]
    },
    {
      "cell_type": "code",
      "execution_count": null,
      "metadata": {
        "colab": {
          "base_uri": "https://localhost:8080/"
        },
        "id": "S_6k5Cwj1-v-",
        "outputId": "5dae0c87-2a45-4a08-b060-ffeda2c4e6f1"
      },
      "outputs": [
        {
          "output_type": "stream",
          "name": "stdout",
          "text": [
            "1 (은)는 J 번째 문제 해설\n",
            "2 (은)는 F 번째 문제 해설\n",
            "3 (은)는 C 번째 문제 해설\n",
            "4 (은)는 J 번째 문제 해설\n",
            "5 (은)는 I 번째 문제 해설\n",
            "6 (은)는 B 번째 문제 해설\n",
            "7 (은)는 A 번째 문제 해설\n",
            "8 (은)는 L 번째 문제 해설\n",
            "9 (은)는 K 번째 문제 해설\n",
            "10 (은)는 K 번째 문제 해설\n",
            "11 (은)는 E 번째 문제 해설\n",
            "12 (은)는 L 번째 문제 해설\n",
            "13 (은)는 H 번째 문제 해설\n",
            "14 (은)는 D 번째 문제 해설\n",
            "15 (은)는 G 번째 문제 해설\n",
            "16 (은)는 I 번째 문제 해설\n"
          ]
        }
      ],
      "source": [
        "import random\n",
        "listdata = [\"A\",\"B\",\"C\",\"D\",\"E\",\"F\",\"G\",\"H\",\"I\",\"J\",\"K\",\"L\",\"I\",\"J\",\"K\",\"L\"]\n",
        "\n",
        "for i in range(5) :\n",
        "  random.shuffle(listdata)\n",
        "\n",
        "for i in range(16) :\n",
        "  print(i+1,\"(은)는\", listdata[i], \"번째 문제 해설\")"
      ]
    },
    {
      "cell_type": "code",
      "source": [
        "a = 1\n",
        "for i in range(1,1001):\n",
        "  a = a * i\n",
        "print(a)"
      ],
      "metadata": {
        "id": "DN-f-JnD2aQs"
      },
      "execution_count": null,
      "outputs": []
    },
    {
      "cell_type": "code",
      "source": [],
      "metadata": {
        "id": "6DPjIvGFKVgj"
      },
      "execution_count": null,
      "outputs": []
    }
  ]
}